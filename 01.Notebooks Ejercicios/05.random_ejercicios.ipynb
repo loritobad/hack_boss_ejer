{
 "cells": [
  {
   "cell_type": "markdown",
   "id": "3b9c8335",
   "metadata": {},
   "source": [
    "## Ejercicios - random"
   ]
  },
  {
   "cell_type": "code",
   "execution_count": 5,
   "id": "ed13011e",
   "metadata": {},
   "outputs": [],
   "source": [
    "import random"
   ]
  },
  {
   "cell_type": "markdown",
   "id": "eca8b13f",
   "metadata": {},
   "source": [
    "### Ejercicio 1\n",
    "- Crea una lista de 10 numeros enteros aleatorios entre el rango de 10 y 20 utilizando la función random.randint()"
   ]
  },
  {
   "cell_type": "code",
   "execution_count": 7,
   "id": "a9c5468a",
   "metadata": {},
   "outputs": [
    {
     "data": {
      "text/plain": [
       "[14, 18, 13, 18, 12, 15, 19, 20, 18, 14]"
      ]
     },
     "execution_count": 7,
     "metadata": {},
     "output_type": "execute_result"
    }
   ],
   "source": [
    "lis = [random.randint(10, 20) for i in range(10)]\n",
    "\n",
    "lis"
   ]
  },
  {
   "cell_type": "code",
   "execution_count": null,
   "id": "91329916",
   "metadata": {},
   "outputs": [],
   "source": []
  },
  {
   "cell_type": "code",
   "execution_count": null,
   "id": "afeb807a",
   "metadata": {},
   "outputs": [],
   "source": []
  },
  {
   "cell_type": "markdown",
   "id": "fc1a19d0",
   "metadata": {},
   "source": [
    "### Ejercicio 2\n",
    "- Crea una lista de 10 numeros enteros aleatorios entre el rango de 10 y 20 sin utilizar la función random.randint()"
   ]
  },
  {
   "cell_type": "code",
   "execution_count": 11,
   "id": "0985d30a",
   "metadata": {},
   "outputs": [
    {
     "data": {
      "text/plain": [
       "[17, 15, 19, 16, 12, 16, 15, 18, 16, 15]"
      ]
     },
     "execution_count": 11,
     "metadata": {},
     "output_type": "execute_result"
    }
   ],
   "source": [
    "lis = []\n",
    "for i in range(10):\n",
    "    lis.append(int(random.random() * 10) + 10)\n",
    "\n",
    "lis"
   ]
  },
  {
   "cell_type": "code",
   "execution_count": null,
   "id": "b04bcddf",
   "metadata": {},
   "outputs": [],
   "source": []
  },
  {
   "cell_type": "code",
   "execution_count": null,
   "id": "07139a13",
   "metadata": {},
   "outputs": [],
   "source": []
  },
  {
   "cell_type": "markdown",
   "id": "381a2b23",
   "metadata": {},
   "source": [
    "### Ejercicio 3\n",
    "- Genera una lista de 100 numero enteros aleatorios entre 0 y 100.\n",
    "- Genera otra lista con solo los números pares de la primera lista.\n",
    "\n",
    "- Extra: Hacer este ejercicio usando 1 solo bucle."
   ]
  },
  {
   "cell_type": "code",
   "execution_count": 18,
   "id": "42ea61d8",
   "metadata": {},
   "outputs": [
    {
     "data": {
      "text/plain": [
       "[82,\n",
       " 0,\n",
       " 16,\n",
       " 78,\n",
       " 16,\n",
       " 56,\n",
       " 14,\n",
       " 50,\n",
       " 96,\n",
       " 26,\n",
       " 20,\n",
       " 70,\n",
       " 28,\n",
       " 4,\n",
       " 76,\n",
       " 94,\n",
       " 4,\n",
       " 58,\n",
       " 18,\n",
       " 94,\n",
       " 28,\n",
       " 78,\n",
       " 54,\n",
       " 20,\n",
       " 74,\n",
       " 20,\n",
       " 20,\n",
       " 14,\n",
       " 52,\n",
       " 96,\n",
       " 26,\n",
       " 32,\n",
       " 26,\n",
       " 0,\n",
       " 98,\n",
       " 62,\n",
       " 44,\n",
       " 24,\n",
       " 58,\n",
       " 72,\n",
       " 44,\n",
       " 16,\n",
       " 24,\n",
       " 40,\n",
       " 46,\n",
       " 70,\n",
       " 72,\n",
       " 0,\n",
       " 80,\n",
       " 12,\n",
       " 64,\n",
       " 40,\n",
       " 76]"
      ]
     },
     "execution_count": 18,
     "metadata": {},
     "output_type": "execute_result"
    }
   ],
   "source": [
    "nu = []\n",
    "pares = []\n",
    "for i in range(100):\n",
    "    nu.append(random.randint(0, 100))\n",
    "    if nu[i] % 2 == 0:\n",
    "        pares.append(nu[i])\n",
    "\n",
    "pares\n",
    "    "
   ]
  },
  {
   "cell_type": "code",
   "execution_count": null,
   "id": "570ff2b3",
   "metadata": {},
   "outputs": [],
   "source": []
  },
  {
   "cell_type": "code",
   "execution_count": null,
   "id": "7b202f9d",
   "metadata": {},
   "outputs": [],
   "source": []
  },
  {
   "cell_type": "code",
   "execution_count": null,
   "id": "8ac4e27c",
   "metadata": {},
   "outputs": [],
   "source": []
  },
  {
   "cell_type": "code",
   "execution_count": null,
   "id": "3989b760",
   "metadata": {},
   "outputs": [],
   "source": [
    "##############################################################################################################################"
   ]
  }
 ],
 "metadata": {
  "kernelspec": {
   "display_name": "ejercicios-boss",
   "language": "python",
   "name": "python3"
  },
  "language_info": {
   "codemirror_mode": {
    "name": "ipython",
    "version": 3
   },
   "file_extension": ".py",
   "mimetype": "text/x-python",
   "name": "python",
   "nbconvert_exporter": "python",
   "pygments_lexer": "ipython3",
   "version": "3.9.13"
  }
 },
 "nbformat": 4,
 "nbformat_minor": 5
}
