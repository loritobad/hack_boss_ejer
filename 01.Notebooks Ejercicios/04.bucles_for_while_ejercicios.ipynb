{
 "cells": [
  {
   "cell_type": "markdown",
   "id": "d6ba5bce",
   "metadata": {},
   "source": [
    "## Ejercicios - Bucles"
   ]
  },
  {
   "cell_type": "markdown",
   "id": "80012d75",
   "metadata": {},
   "source": [
    "### Ejercicio 1\n",
    "\n",
    "- Dada la siguiente **lista = [1, 2, 3, 4, 5, 6, 7, 8, 9, 10]**, imprimir cada número sumandole 10 unidades utilizando un bucle **`for`**."
   ]
  },
  {
   "cell_type": "code",
   "execution_count": 1,
   "id": "5436374e",
   "metadata": {},
   "outputs": [
    {
     "name": "stdout",
     "output_type": "stream",
     "text": [
      "11\n",
      "12\n",
      "13\n",
      "14\n",
      "15\n",
      "16\n",
      "17\n",
      "18\n",
      "19\n",
      "20\n"
     ]
    }
   ],
   "source": [
    "lista = [1,2,3,4,5,6,7,8,9,10]\n",
    "\n",
    "for n in lista:\n",
    "    print(n+10)\n",
    "    "
   ]
  },
  {
   "cell_type": "code",
   "execution_count": null,
   "id": "b77fc537",
   "metadata": {},
   "outputs": [],
   "source": []
  },
  {
   "cell_type": "code",
   "execution_count": null,
   "id": "4dab770a",
   "metadata": {},
   "outputs": [],
   "source": []
  },
  {
   "cell_type": "markdown",
   "id": "615b834a",
   "metadata": {},
   "source": [
    "### Ejercicio 2\n",
    "- Crea un bucle for que muestre la tabla de multiplicar del 1 al 10 de un número dado por el usuario.\n",
    "- Ejemplo:\n",
    "\n",
    "```html\n",
    "1 x 2 = 2\n",
    "2 x 2 = 4\n",
    "3 x 2 = 6\n",
    "4 x 2 = 8\n",
    "5 x 2 = 10\n",
    "6 x 2 = 12\n",
    "7 x 2 = 14\n",
    "8 x 2 = 16\n",
    "9 x 2 = 18\n",
    "10 x 2 = 20\n",
    "```"
   ]
  },
  {
   "cell_type": "code",
   "execution_count": 5,
   "id": "4c07823e",
   "metadata": {},
   "outputs": [
    {
     "name": "stdout",
     "output_type": "stream",
     "text": [
      "1 x 5 = 5\n",
      "2 x 5 = 10\n",
      "3 x 5 = 15\n",
      "4 x 5 = 20\n",
      "5 x 5 = 25\n",
      "6 x 5 = 30\n",
      "7 x 5 = 35\n",
      "8 x 5 = 40\n",
      "9 x 5 = 45\n",
      "10 x 5 = 50\n"
     ]
    }
   ],
   "source": [
    "try:\n",
    "    number = int(input(\"Introduzca un numero: \"))\n",
    "    \n",
    "    for n in lista:\n",
    "        print(f'{n} x {number} = {n * number}')\n",
    "    \n",
    "except ValueError:\n",
    "    print(\"Error\")"
   ]
  },
  {
   "cell_type": "code",
   "execution_count": null,
   "id": "c2777e61",
   "metadata": {},
   "outputs": [],
   "source": []
  },
  {
   "cell_type": "code",
   "execution_count": null,
   "id": "b5426c6d",
   "metadata": {},
   "outputs": [],
   "source": []
  },
  {
   "cell_type": "markdown",
   "id": "3c8a4c44",
   "metadata": {},
   "source": [
    "### Ejercicio 3\n",
    "- Crear una lista vacia.\n",
    "- Llenar la lista con los numero del 200 al 215 usando un bucle **`for`**."
   ]
  },
  {
   "cell_type": "code",
   "execution_count": 10,
   "id": "92d1be47",
   "metadata": {},
   "outputs": [
    {
     "data": {
      "text/plain": [
       "[200,\n",
       " 201,\n",
       " 202,\n",
       " 203,\n",
       " 204,\n",
       " 205,\n",
       " 206,\n",
       " 207,\n",
       " 208,\n",
       " 209,\n",
       " 210,\n",
       " 211,\n",
       " 212,\n",
       " 213,\n",
       " 214,\n",
       " 215]"
      ]
     },
     "execution_count": 10,
     "metadata": {},
     "output_type": "execute_result"
    }
   ],
   "source": [
    "numbes = []\n",
    "for i in range(200,216):\n",
    "    numbes.append(i)\n",
    "    \n",
    "numbes"
   ]
  },
  {
   "cell_type": "code",
   "execution_count": null,
   "id": "f0855161",
   "metadata": {},
   "outputs": [],
   "source": []
  },
  {
   "cell_type": "code",
   "execution_count": null,
   "id": "864fac96",
   "metadata": {},
   "outputs": [],
   "source": []
  },
  {
   "cell_type": "markdown",
   "id": "073bada8",
   "metadata": {},
   "source": [
    "### Ejercicio 4\n",
    "- Crea una lista de números pares entre el 555 y el 599 utilizando bucle **`for`**."
   ]
  },
  {
   "cell_type": "code",
   "execution_count": 11,
   "id": "2ea6dc60",
   "metadata": {
    "scrolled": true
   },
   "outputs": [
    {
     "data": {
      "text/plain": [
       "[556,\n",
       " 558,\n",
       " 560,\n",
       " 562,\n",
       " 564,\n",
       " 566,\n",
       " 568,\n",
       " 570,\n",
       " 572,\n",
       " 574,\n",
       " 576,\n",
       " 578,\n",
       " 580,\n",
       " 582,\n",
       " 584,\n",
       " 586,\n",
       " 588,\n",
       " 590,\n",
       " 592,\n",
       " 594,\n",
       " 596,\n",
       " 598]"
      ]
     },
     "execution_count": 11,
     "metadata": {},
     "output_type": "execute_result"
    }
   ],
   "source": [
    "num = []\n",
    "\n",
    "for i in range(555, 599):\n",
    "    if i % 2 == 0:\n",
    "        num.append(i)\n",
    "\n",
    "num"
   ]
  },
  {
   "cell_type": "code",
   "execution_count": null,
   "id": "e361b1ba",
   "metadata": {},
   "outputs": [],
   "source": []
  },
  {
   "cell_type": "code",
   "execution_count": null,
   "id": "18fb0d85",
   "metadata": {},
   "outputs": [],
   "source": []
  },
  {
   "cell_type": "markdown",
   "id": "282e98c2",
   "metadata": {},
   "source": [
    "### Ejercicio 5\n",
    "- Crea un bucle for que sume los valores de la siguiente lista: **[51, 52, 53, 54, 55]**."
   ]
  },
  {
   "cell_type": "code",
   "execution_count": 12,
   "id": "3d4d4485",
   "metadata": {},
   "outputs": [
    {
     "data": {
      "text/plain": [
       "265"
      ]
     },
     "execution_count": 12,
     "metadata": {},
     "output_type": "execute_result"
    }
   ],
   "source": [
    "ejem= [51, 52, 53, 54, 55]\n",
    "aux = 0\n",
    "\n",
    "for i in ejem:\n",
    "    aux += i\n",
    "    \n",
    "aux"
   ]
  },
  {
   "cell_type": "code",
   "execution_count": null,
   "id": "30c815f0",
   "metadata": {},
   "outputs": [],
   "source": []
  },
  {
   "cell_type": "code",
   "execution_count": null,
   "id": "dee25278",
   "metadata": {},
   "outputs": [],
   "source": []
  },
  {
   "cell_type": "markdown",
   "id": "ac9f3703",
   "metadata": {},
   "source": [
    "### Ejercicio 6\n",
    "- Crea una lista con 5 elementos y cada elemento de esa lista, va a ser una lista con los siguientes datos: **[1, 2, 3]**, utiliza 2 **`for`** anidados.\n",
    "\n",
    "- Resultado: [[1, 2, 3], [1, 2, 3], [1, 2, 3], [1, 2, 3], [1, 2, 3]]"
   ]
  },
  {
   "cell_type": "code",
   "execution_count": 20,
   "id": "70ba6e94",
   "metadata": {},
   "outputs": [
    {
     "data": {
      "text/plain": [
       "[[1, 2, 3], [1, 2, 3], [1, 2, 3], [1, 2, 3]]"
      ]
     },
     "execution_count": 20,
     "metadata": {},
     "output_type": "execute_result"
    }
   ],
   "source": [
    "out = []\n",
    "out2 = [1,2,3]\n",
    "\n",
    "for i in range(1, 5):\n",
    "    out.append(out2)\n",
    "\n",
    "out\n"
   ]
  },
  {
   "cell_type": "code",
   "execution_count": null,
   "id": "c40c21e9",
   "metadata": {},
   "outputs": [],
   "source": []
  },
  {
   "cell_type": "code",
   "execution_count": null,
   "id": "beeacbeb",
   "metadata": {},
   "outputs": [],
   "source": []
  },
  {
   "cell_type": "markdown",
   "id": "b7bb3dcc",
   "metadata": {},
   "source": [
    "### Ejercicio 7\n",
    "- Crea un bucle que cuente del 10 al 1."
   ]
  },
  {
   "cell_type": "code",
   "execution_count": 22,
   "id": "ac6f8092",
   "metadata": {},
   "outputs": [
    {
     "name": "stdout",
     "output_type": "stream",
     "text": [
      "10\n",
      "9\n",
      "8\n",
      "7\n",
      "6\n",
      "5\n",
      "4\n",
      "3\n",
      "2\n",
      "1\n"
     ]
    }
   ],
   "source": [
    "for i in range(10,0,-1):\n",
    "    print(i)"
   ]
  },
  {
   "cell_type": "code",
   "execution_count": null,
   "id": "22d3a338",
   "metadata": {},
   "outputs": [],
   "source": []
  },
  {
   "cell_type": "code",
   "execution_count": null,
   "id": "9153024c",
   "metadata": {},
   "outputs": [],
   "source": []
  },
  {
   "cell_type": "markdown",
   "id": "6d158465",
   "metadata": {},
   "source": [
    "### Ejercicio 8\n",
    "- Crea dos variables llamadas **par** e **impar** e inicializalas en 0.\n",
    "- Dada la siguiente lista de números = **[10, 7, 8, 3, 5, 2, 71, 21, 88]**, crea un bucle que recorra la lista y sume los números pares a la variable **par** y sume los números impares a la variable **impares**."
   ]
  },
  {
   "cell_type": "code",
   "execution_count": 26,
   "id": "df34a94b",
   "metadata": {},
   "outputs": [
    {
     "name": "stdout",
     "output_type": "stream",
     "text": [
      "Suma Numeros pares: 108, Suma numeros impares: 107\n"
     ]
    }
   ],
   "source": [
    "par = 0\n",
    "impar = 0\n",
    "\n",
    "numeros = [10,7,8,3,5,2,71,21,88]\n",
    "\n",
    "for i in numeros:\n",
    "    if i % 2 == 0:\n",
    "        par += i\n",
    "    else:\n",
    "        impar += i\n",
    "        \n",
    "print(f'Suma Numeros pares: {par}, Suma numeros impares: {impar}')"
   ]
  },
  {
   "cell_type": "code",
   "execution_count": null,
   "id": "0fa5dcb9",
   "metadata": {},
   "outputs": [],
   "source": []
  },
  {
   "cell_type": "code",
   "execution_count": null,
   "id": "24925fcc",
   "metadata": {},
   "outputs": [],
   "source": []
  },
  {
   "cell_type": "markdown",
   "id": "367b6971",
   "metadata": {},
   "source": [
    "### Ejercicio 9\n",
    "- Crea una lista con 5 colores diferentes.\n",
    "- Y con bucles anidados imprime las letras de los colores."
   ]
  },
  {
   "cell_type": "code",
   "execution_count": 27,
   "id": "01085cd1",
   "metadata": {},
   "outputs": [],
   "source": [
    "colors = ['red', 'green', 'blue', 'yellow']"
   ]
  },
  {
   "cell_type": "code",
   "execution_count": 28,
   "id": "162f2a39",
   "metadata": {},
   "outputs": [
    {
     "name": "stdout",
     "output_type": "stream",
     "text": [
      "r\n",
      "e\n",
      "d\n",
      "g\n",
      "r\n",
      "e\n",
      "e\n",
      "n\n",
      "b\n",
      "l\n",
      "u\n",
      "e\n",
      "y\n",
      "e\n",
      "l\n",
      "l\n",
      "o\n",
      "w\n"
     ]
    }
   ],
   "source": [
    "for i in colors:\n",
    "    for l in i:\n",
    "        print(l)"
   ]
  },
  {
   "cell_type": "code",
   "execution_count": null,
   "id": "976981fa",
   "metadata": {},
   "outputs": [],
   "source": []
  },
  {
   "cell_type": "markdown",
   "id": "bf59c876",
   "metadata": {},
   "source": [
    "### Ejercicio 10\n",
    "- Imprimir el índice y valor de cada elemento de la **lista = [-5, -4, -3, -2, -1, 0, 1, 2, 3, 4, 5]** utilizando un bucle **for**."
   ]
  },
  {
   "cell_type": "code",
   "execution_count": 30,
   "id": "db8dad4b",
   "metadata": {},
   "outputs": [
    {
     "name": "stdout",
     "output_type": "stream",
     "text": [
      "indice 0 valor -5\n",
      "indice 1 valor -4\n",
      "indice 2 valor -3\n",
      "indice 3 valor -2\n",
      "indice 4 valor -1\n",
      "indice 5 valor 0\n",
      "indice 6 valor 1\n",
      "indice 7 valor 2\n",
      "indice 8 valor 3\n",
      "indice 9 valor 4\n",
      "indice 10 valor 5\n"
     ]
    }
   ],
   "source": [
    "lista = [-5, -4, -3, -2, -1, 0, 1, 2, 3, 4, 5]\n",
    "\n",
    "for i in lista:\n",
    "    print(f'indice {lista.index(i)} valor {i}')\n"
   ]
  },
  {
   "cell_type": "code",
   "execution_count": null,
   "id": "3b6f62e5",
   "metadata": {},
   "outputs": [],
   "source": []
  },
  {
   "cell_type": "code",
   "execution_count": null,
   "id": "70bbdb9a",
   "metadata": {},
   "outputs": [],
   "source": []
  },
  {
   "cell_type": "markdown",
   "id": "eb2b14d4",
   "metadata": {},
   "source": [
    "### Ejercicio 11\n",
    "- Crea un bucle **while** donde le pregunte al usuario un número y si ese número es impar el programa se detiene."
   ]
  },
  {
   "cell_type": "code",
   "execution_count": 31,
   "id": "1f61356a",
   "metadata": {},
   "outputs": [],
   "source": [
    "while True:\n",
    "    try:\n",
    "        number = int(input(\"Introduzca un numero: \"))\n",
    "        \n",
    "        if number % 2 > 0:\n",
    "            break\n",
    "    except ValueError:\n",
    "        print(\"Error\")"
   ]
  },
  {
   "cell_type": "code",
   "execution_count": null,
   "id": "76f2453d",
   "metadata": {},
   "outputs": [],
   "source": []
  },
  {
   "cell_type": "code",
   "execution_count": null,
   "id": "63488bdc",
   "metadata": {},
   "outputs": [],
   "source": []
  },
  {
   "cell_type": "markdown",
   "id": "506b594c",
   "metadata": {},
   "source": [
    "### Ejercicio 12\n",
    "- Pide al usuario una frase.\n",
    "- Has un bucle que recorra la frase y que imprima las letras de la frase y cuantas veces aparece."
   ]
  },
  {
   "cell_type": "code",
   "execution_count": null,
   "id": "79406ac9",
   "metadata": {},
   "outputs": [],
   "source": []
  },
  {
   "cell_type": "code",
   "execution_count": 35,
   "id": "6d5eed1e",
   "metadata": {},
   "outputs": [
    {
     "data": {
      "text/plain": [
       "{'h': 2, 'o': 2, 'l': 1, 'a': 1, ' ': 1, 'i': 1, 'j': 1, 'p': 1}"
      ]
     },
     "execution_count": 35,
     "metadata": {},
     "output_type": "execute_result"
    }
   ],
   "source": [
    "conteo ={}\n",
    "try:\n",
    "    frase = input(\"Introduzca una frase: \")\n",
    "    for letra in frase:\n",
    "        if letra in conteo:\n",
    "            conteo[letra] += 1\n",
    "        else:\n",
    "            conteo[letra] = 1\n",
    "    \n",
    "except ValueError:\n",
    "    print(\"Error\")\n",
    "    \n",
    "conteo"
   ]
  },
  {
   "cell_type": "code",
   "execution_count": null,
   "id": "7589273f",
   "metadata": {},
   "outputs": [],
   "source": []
  },
  {
   "cell_type": "code",
   "execution_count": null,
   "id": "c80fb589",
   "metadata": {},
   "outputs": [],
   "source": []
  },
  {
   "cell_type": "code",
   "execution_count": null,
   "id": "ed860fac-20fd-4ac9-a1a5-cb60a7d96bc5",
   "metadata": {},
   "outputs": [],
   "source": [
    "##############################################################################################################################"
   ]
  }
 ],
 "metadata": {
  "kernelspec": {
   "display_name": "ejercicios-boss",
   "language": "python",
   "name": "python3"
  },
  "language_info": {
   "codemirror_mode": {
    "name": "ipython",
    "version": 3
   },
   "file_extension": ".py",
   "mimetype": "text/x-python",
   "name": "python",
   "nbconvert_exporter": "python",
   "pygments_lexer": "ipython3",
   "version": "3.9.13"
  }
 },
 "nbformat": 4,
 "nbformat_minor": 5
}
